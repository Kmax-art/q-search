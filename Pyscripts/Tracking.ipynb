{
 "cells": [
  {
   "cell_type": "code",
   "execution_count": 1,
   "id": "b4026fd6-8561-4b66-b002-fc4c5159a703",
   "metadata": {},
   "outputs": [],
   "source": [
    "import numpy as np\n",
    "from numpy import linalg as LA\n",
    "import matplotlib as mpl\n",
    "import matplotlib.pyplot as plt\n",
    "import pandas as pd\n",
    "from tqdm import tqdm\n",
    "import functools as ft\n",
    "from scipy.linalg import block_diag\n",
    "from rich.progress import track\n"
   ]
  },
  {
   "cell_type": "code",
   "execution_count": 2,
   "id": "d0a74b3b-3424-4cb4-9ea4-87cca7addd89",
   "metadata": {},
   "outputs": [],
   "source": [
    "plt.rcParams['text.usetex'] = True\n",
    "plt.rcParams['font.family'] = 'serif'\n",
    "plt.rcParams['text.color'] = 'k'\n",
    "plt.rcParams['axes.labelcolor'] = 'k'"
   ]
  },
  {
   "cell_type": "code",
   "execution_count": 3,
   "id": "3a521a0e-2f3c-45d2-9443-c1631b935b5d",
   "metadata": {},
   "outputs": [],
   "source": [
    "# ===========================================================================================================\n",
    "# ===================================== Defining few functions for ease ====================================\n",
    "# ==========================================================================================================\n",
    "\n",
    "# --------- Conjugate Transpose --------\n",
    "\n",
    "def conjT(A # Matrix \n",
    "         ):\n",
    "    B = np.conj(A)\n",
    "    B = np.transpose(B)\n",
    "    return B\n",
    "\n",
    "# --- Vector norm and Vector product\n",
    "\n",
    "def vec_norm(v # column vector\n",
    "            ):\n",
    "    norm = conjT(v)@v\n",
    "    return np.sqrt(norm[0,0])\n",
    "\n",
    "def vec_prod(u,v # column vectors\n",
    "            ):\n",
    "    norm = conjT(u)@v\n",
    "    return norm[0,0]\n",
    "\n",
    "\n",
    "def f(t1,t2):\n",
    "    return np.heaviside(t1) - np.heaviside(t2)\n"
   ]
  },
  {
   "cell_type": "markdown",
   "id": "ddd19573-927f-4f3e-820d-cc8078f7c179",
   "metadata": {},
   "source": [
    "-----------"
   ]
  },
  {
   "cell_type": "code",
   "execution_count": 18,
   "id": "ae7e99be-54bf-44a2-9ee4-1ed1ff17297d",
   "metadata": {},
   "outputs": [],
   "source": [
    "N = 2**4 # lattice sites\n",
    "pos = np.eye(N) # position space\n",
    "coin = np.eye(4)  # coin space"
   ]
  },
  {
   "cell_type": "code",
   "execution_count": 19,
   "id": "1088f228-6aeb-4666-be5d-24a8a682dec5",
   "metadata": {},
   "outputs": [],
   "source": [
    "# Coin Switch\n",
    "\n",
    "UD = np.outer(coin[3],coin[0]) # Takes from U to D\n",
    "DU = np.outer(coin[0],coin[3]) \n",
    "LR = np.outer(coin[2],coin[1]) \n",
    "RL = np.outer(coin[1],coin[2])  \n",
    "\n",
    "UU = np.outer(coin[0],coin[0])\n",
    "DD = np.outer(coin[3],coin[3])\n",
    "LL = np.outer(coin[1],coin[1])\n",
    "RR = np.outer(coin[2],coin[2])"
   ]
  },
  {
   "cell_type": "code",
   "execution_count": 20,
   "id": "387e9d06-8c6e-4173-ae4b-3648aeaa3188",
   "metadata": {},
   "outputs": [],
   "source": [
    "# Constructing Shift Operator -- Periodic boundary condition \n",
    "\n",
    "shift_down = np.kron(np.eye(N),np.roll(np.eye(N), 1, axis=0))\n",
    "shift_up = np.kron(np.eye(N),np.roll(np.eye(N), -1, axis=0))\n",
    "shift_left = np.kron(np.roll(np.eye(N), 1, axis=0),np.eye(N))\n",
    "shift_right = np.kron(np.roll(np.eye(N), -1, axis=0),np.eye(N))\n",
    "\n",
    "shift = np.kron(UD,shift_up) + np.kron(DU,shift_down) + np.kron(LR,shift_left) + np.kron(RL,shift_right)"
   ]
  },
  {
   "cell_type": "code",
   "execution_count": 21,
   "id": "ab2f6988-3873-4269-b9cb-cf0f66eaefc8",
   "metadata": {},
   "outputs": [
    {
     "name": "stdout",
     "output_type": "stream",
     "text": [
      "Is shift operator unitary? True\n"
     ]
    }
   ],
   "source": [
    "print('Is shift operator unitary?', np.allclose(shift@conjT(shift),np.eye(N**2*4)))"
   ]
  },
  {
   "cell_type": "code",
   "execution_count": 22,
   "id": "a652b11d-912c-4108-9640-81393eee06dc",
   "metadata": {},
   "outputs": [],
   "source": [
    "# Grover's Coin Operator \n",
    "\n",
    "Qdim = 4\n",
    "Grover_OP = 2*np.ones((Qdim,Qdim))/Qdim - np.eye(Qdim)\n",
    "\n",
    "# Evolution operator for the walk\n",
    "\n",
    "Evolution_OP = shift@np.kron(Grover_OP,np.eye(N**2))\n",
    "\n"
   ]
  },
  {
   "cell_type": "code",
   "execution_count": 23,
   "id": "34acd659-4fbb-4923-a184-92eea2e8ea84",
   "metadata": {},
   "outputs": [],
   "source": [
    "def ORACLE(marked_points):\n",
    "    # basis = []\n",
    "    mm = np.zeros((N**2,N**2))\n",
    "    if len(marked_points) == 0:\n",
    "        return np.eye(Qdim*N**2)\n",
    "    else:\n",
    "        for i in range(len(marked_points)):\n",
    "            xx = np.zeros((N,1)); yy = np.zeros((N,1))\n",
    "            coordinate = marked_points\n",
    "            xx[coordinate[0],0] = 1; yy[coordinate[1],0] = 1\n",
    "            basis = np.kron(xx,yy)\n",
    "            mm = mm + basis@conjT(basis)\n",
    "\n",
    "        R = np.eye(Qdim*N**2) - np.kron((2*np.ones((Qdim,Qdim))/Qdim),mm)\n",
    "    return R\n"
   ]
  },
  {
   "cell_type": "markdown",
   "id": "21ce5228-3112-42e0-9005-93ba4c89848c",
   "metadata": {},
   "source": [
    "---------------------"
   ]
  },
  {
   "cell_type": "code",
   "execution_count": 30,
   "id": "82969ec4-b8e3-40c3-ba43-506bc7cefad5",
   "metadata": {},
   "outputs": [],
   "source": [
    "T = 8  # Amplification Time \n",
    "τ = 2 # Particle's velocity \n",
    "\n",
    "m = int(T/τ) # number of layers\n",
    "\n",
    "Tf = 100 # final time \n",
    "ti = 0 # real time "
   ]
  },
  {
   "cell_type": "code",
   "execution_count": 31,
   "id": "5cb081b3-eb9a-4f90-853b-eff61e8d970d",
   "metadata": {},
   "outputs": [],
   "source": [
    "trajectory = []\n",
    "\n",
    "position = [[np.random.randint(0,N),np.random.randint(0,N)] for i in range(int(Tf/τ))]\n",
    "\n",
    "for i in range(Tf):\n",
    "    position_at_ti = []\n",
    "\n",
    "    for j in range(m):\n",
    "        if i >= τ*j:\n",
    "            position_at_ti.append(position[j + m*int((i-j*τ)/T)])\n",
    "        else:\n",
    "            position_at_ti.append([])\n",
    "            \n",
    "    trajectory.append(position_at_ti)"
   ]
  },
  {
   "cell_type": "code",
   "execution_count": 33,
   "id": "4b0c13cd-1e4d-4e4d-bb12-e282c25392f9",
   "metadata": {},
   "outputs": [
    {
     "name": "stderr",
     "output_type": "stream",
     "text": [
      "100%|█████████████████████████████████████████████████████████████████████████████████████████████████████████████████████| 100/100 [02:08<00:00,  1.28s/it]\n"
     ]
    }
   ],
   "source": [
    "evolution_op_list = []\n",
    "for i in range(m):\n",
    "    evolution_op_list.append(Evolution_OP)\n",
    "\n",
    "evolution_op = ft.reduce(block_diag,evolution_op_list)\n",
    "  \n",
    "Ψ0 = np.ones((Qdim*N**2*m,1))\n",
    "Ψ0 = Ψ0/vec_norm(Ψ0)\n",
    "Ψt = np.copy(Ψ0)\n",
    "P = []\n",
    "\n",
    "for i in tqdm(range(Tf)):\n",
    "    position_at_ti = trajectory[i]\n",
    "    \n",
    "    oracle_list = []\n",
    "    \n",
    "    for j in range(m):\n",
    "        oracle_list.append(ORACLE(position_at_ti[j]))\n",
    "    \n",
    "    oracle = ft.reduce(block_diag,oracle_list)\n",
    "    \n",
    "    U = evolution_op@oracle \n",
    "    \n",
    "    Pt = []\n",
    "    for k in range(m):\n",
    "        ψt = Ψt[k*Qdim*N**2:k*Qdim*N**2 + Qdim*N**2]\n",
    "        P_layer = np.zeros((N,N))\n",
    "        for xx in range(N):\n",
    "            xket = np.zeros((N,1))\n",
    "            xket[xx,0] = 1\n",
    "            for yy in range(N):\n",
    "                yket = np.zeros((N,1))\n",
    "                yket[yy,0] = 1\n",
    "                basis = np.kron(xket,yket)\n",
    "                pt = 0\n",
    "                for ii in range(4):\n",
    "                    ϕ = np.kron(coin[:,[ii]],basis)\n",
    "                    pt = pt + np.absolute(conjT(ϕ)@ψt)**2\n",
    "                P_layer[xx,yy] = pt\n",
    "        Pt.append(P_layer)\n",
    "    P.append(Pt)\n",
    "\n",
    "    Ψt = U@Ψt"
   ]
  },
  {
   "cell_type": "code",
   "execution_count": 28,
   "id": "3d0334e8-50d0-4e79-a473-71102c4b1d42",
   "metadata": {
    "tags": []
   },
   "outputs": [
    {
     "data": {
      "text/plain": [
       "(4096, 4096)"
      ]
     },
     "execution_count": 28,
     "metadata": {},
     "output_type": "execute_result"
    }
   ],
   "source": [
    "oracle.shape"
   ]
  },
  {
   "cell_type": "code",
   "execution_count": 16,
   "id": "2cd9398b-d7f4-4b7f-ab48-4194fe7c5764",
   "metadata": {
    "tags": []
   },
   "outputs": [
    {
     "data": {
      "text/plain": [
       "(4096, 4096)"
      ]
     },
     "execution_count": 16,
     "metadata": {},
     "output_type": "execute_result"
    }
   ],
   "source": [
    "evolution_op.shape"
   ]
  },
  {
   "cell_type": "code",
   "execution_count": 35,
   "id": "078bc906-7030-411c-b79b-72c29b217505",
   "metadata": {
    "tags": []
   },
   "outputs": [
    {
     "data": {
      "text/plain": [
       "100"
      ]
     },
     "execution_count": 35,
     "metadata": {},
     "output_type": "execute_result"
    }
   ],
   "source": [
    "Tf"
   ]
  },
  {
   "cell_type": "code",
   "execution_count": null,
   "id": "e0b1a479-fbfa-4076-ba83-1f755b599277",
   "metadata": {},
   "outputs": [
    {
     "name": "stderr",
     "output_type": "stream",
     "text": [
      "100%|████████████████████████████████████████████████████████████████████████████████████████████████████████████████████| 100/100 [00:00<00:00, 437.06it/s]\n"
     ]
    }
   ],
   "source": [
    "import numpy as np\n",
    "import matplotlib.pyplot as plt\n",
    "import matplotlib.animation as animation\n",
    "\n",
    "\n",
    "\n",
    "# ims is a list of lists, each row is a list of artists to draw in the\n",
    "# current frame; here we are just animating one artist, the image, in\n",
    "# each frame\n",
    "fig, axs = plt.subplots(1,m,figsize=(16, 4))\n",
    "\n",
    "ims = []\n",
    "for i in tqdm(range(Tf)):\n",
    "    \n",
    "    for ii in range(m):\n",
    "        ax = axs[ii]\n",
    "        ax.imshow(P[i][ii], animated=True)\n",
    "\n",
    "    if i == 0:\n",
    "        for ii in range(m):\n",
    "            ax = axs[ii]\n",
    "            im = ax.imshow(P[i][0])  # show an initial one first\n",
    "    \n",
    "    ims.append([im])\n",
    "\n",
    "    \n",
    "ani = animation.ArtistAnimation(fig, ims, interval=50, blit=False,\n",
    "                                repeat_delay=1000)\n",
    "\n",
    "# To save the animation, use e.g.\n",
    "#\n",
    "ani.save(\"movie.gif\")\n",
    "#\n",
    "# or\n",
    "#\n",
    "writer = animation.FFMpegWriter(\n",
    "    fps=15, metadata=dict(artist='Me'), bitrate=1800)\n",
    "ani.save(\"movie.mp4\", writer=writer)\n",
    "\n",
    "plt.show()"
   ]
  },
  {
   "cell_type": "code",
   "execution_count": 75,
   "id": "46a565b3-77e7-4c88-92be-a8c8e962316d",
   "metadata": {},
   "outputs": [],
   "source": [
    "m = 5"
   ]
  },
  {
   "cell_type": "code",
   "execution_count": null,
   "id": "14d97aaa-e216-46fb-bfba-d3c0eb0af7c8",
   "metadata": {},
   "outputs": [],
   "source": []
  },
  {
   "cell_type": "code",
   "execution_count": null,
   "id": "2d9fc7fa-003b-460b-ab92-7cd883992fd5",
   "metadata": {},
   "outputs": [
    {
     "name": "stderr",
     "output_type": "stream",
     "text": [
      "100%|███████████████████████████████████████████████████████████████████████████████| 100/100 [00:00<00:00, 321.83it/s]\n"
     ]
    }
   ],
   "source": [
    "import numpy as np\n",
    "import matplotlib.pyplot as plt\n",
    "import matplotlib.animation as animation\n",
    "from tqdm import tqdm\n",
    "\n",
    "\n",
    "# Create subplots\n",
    "fig, axs = plt.subplots(1, m, figsize=(16, 4))\n",
    "\n",
    "# Initialize a list of lists for artists in each frame\n",
    "ims = []\n",
    "\n",
    "# Loop through frames\n",
    "for i in tqdm(range(Tf)):\n",
    "    artists_in_frame = []  # List to store artists for this frame\n",
    "    \n",
    "    for ii in range(m):\n",
    "        ax = axs[ii]\n",
    "        im = ax.imshow(P[i][ii], animated=True)\n",
    "        artists_in_frame.append(im)  # Append the subplot's artist\n",
    "    \n",
    "    ims.append(artists_in_frame)  # Append the list of artists for this frame\n",
    "\n",
    "# Create the animation\n",
    "ani = animation.ArtistAnimation(fig, ims, interval=50, blit=True, repeat_delay=1000)\n",
    "\n",
    "# Save the animation as a GIF\n",
    "ani.save(\"movie.gif\")\n",
    "\n",
    "plt.show()\n"
   ]
  },
  {
   "cell_type": "code",
   "execution_count": null,
   "id": "e6f3388e-6951-4a07-92d3-c9d023ffd939",
   "metadata": {},
   "outputs": [],
   "source": []
  }
 ],
 "metadata": {
  "kernelspec": {
   "display_name": "Python 3 (ipykernel)",
   "language": "python",
   "name": "python3"
  },
  "language_info": {
   "codemirror_mode": {
    "name": "ipython",
    "version": 3
   },
   "file_extension": ".py",
   "mimetype": "text/x-python",
   "name": "python",
   "nbconvert_exporter": "python",
   "pygments_lexer": "ipython3",
   "version": "3.9.17"
  }
 },
 "nbformat": 4,
 "nbformat_minor": 5
}
